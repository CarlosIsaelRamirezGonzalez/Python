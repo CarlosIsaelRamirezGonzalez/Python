{
 "cells": [
  {
   "cell_type": "code",
   "execution_count": 40,
   "id": "458744aa",
   "metadata": {},
   "outputs": [],
   "source": [
    "1.0j                   # Imaginary literal\n",
    "{1, 2, 4, 8, 'string'}  # Set\n",
    "10,20,30 # Tuple\n",
    "(10, 20, 30) # Tuple\n",
    "\n",
    "\n",
    "0b101101 # Binario\n",
    "0o27 # Octal \n",
    "0x1 # Hexadecimal\n",
    "\n",
    "a = b = c = 0"
   ]
  },
  {
   "cell_type": "code",
   "execution_count": 14,
   "id": "caca70d7",
   "metadata": {},
   "outputs": [
    {
     "name": "stdout",
     "output_type": "stream",
     "text": [
      " integer ratio : (5, 2)\n",
      " hexadecimal value: False\n"
     ]
    }
   ],
   "source": [
    "# Operaciones con flotantes\n",
    "f = 2.5\n",
    "integer_ratio = f.as_integer_ratio() # Nos regresa dos enteros, el numerador y el denominador, juntos forman el 2.5\n",
    "is_integer_value = f.is_integer()\n",
    "print(f' integer ratio : {integer_ratio}')\n",
    "print(f' hexadecimal value: {is_integer_value}')"
   ]
  },
  {
   "cell_type": "code",
   "execution_count": 18,
   "id": "d483bbfc",
   "metadata": {},
   "outputs": [
    {
     "name": "stdout",
     "output_type": "stream",
     "text": [
      "('w', 'o', 'w')\n",
      "['w', 'o', 'w']\n",
      "supercalifragilisticexpialidocious\n"
     ]
    }
   ],
   "source": [
    "\n",
    "marypop = ('supercali'       # '(' begins logical line,\n",
    "           'fragilistic'     # indentation is ignored\n",
    "           'expialidocious') # until closing ')'\n",
    "\n",
    "print(tuple(\"wow\"))\n",
    "print(list(\"wow\"))\n",
    "print(marypop)"
   ]
  },
  {
   "cell_type": "code",
   "execution_count": 27,
   "id": "21cfcb88",
   "metadata": {},
   "outputs": [
    {
     "name": "stdout",
     "output_type": "stream",
     "text": [
      "{32, 'Hola'}\n"
     ]
    }
   ],
   "source": [
    "im_set = {32, \"Hola\", 32, 32, 32, 32}\n",
    "print(im_set) # set no puede tener items repetidos\n",
    "empty_set = set()"
   ]
  },
  {
   "cell_type": "code",
   "execution_count": 29,
   "id": "b93480da",
   "metadata": {},
   "outputs": [
    {
     "data": {
      "text/plain": [
       "{1: 5, 3: 4}"
      ]
     },
     "execution_count": 29,
     "metadata": {},
     "output_type": "execute_result"
    }
   ],
   "source": [
    "dictionary = {1:2, 3:4, 1:5}  # The value of this dictionary is {1:5, 3:4}\n",
    "dictionary # El valor es asi porque usamos la llave 1 dos veces"
   ]
  },
  {
   "cell_type": "code",
   "execution_count": 30,
   "id": "c1a26397",
   "metadata": {},
   "outputs": [
    {
     "data": {
      "text/plain": [
       "{}"
      ]
     },
     "execution_count": 30,
     "metadata": {},
     "output_type": "execute_result"
    }
   ],
   "source": [
    "dict(x=42, y=3.14, z=7)      # Dictionary with three items, str keys\n",
    "dict([(1, 2), (3, 4)])       # Dictionary with two items, int keys\n",
    "dict([(1,'za'), ('br',23)])  # Dictionary with different key types\n",
    "dict()                       # Empty dictionary"
   ]
  },
  {
   "cell_type": "code",
   "execution_count": 34,
   "id": "0a477659",
   "metadata": {},
   "outputs": [
    {
     "data": {
      "text/plain": [
       "{'a': 1, 'x': 5, 'c': 2}"
      ]
     },
     "execution_count": 34,
     "metadata": {},
     "output_type": "execute_result"
    }
   ],
   "source": [
    "d1 = {'a':1, 'x':0}\n",
    "d2 = {'c':2, 'x': 5}\n",
    "d3 = {**d1, **d2}\n",
    "d3 # Mismo resultado y mas facil con d3 = d1 | d2"
   ]
  },
  {
   "cell_type": "code",
   "execution_count": 37,
   "id": "a5b6ff52",
   "metadata": {},
   "outputs": [
    {
     "data": {
      "text/plain": [
       "{1: Ellipsis, 2: Ellipsis, 3: Ellipsis}"
      ]
     },
     "execution_count": 37,
     "metadata": {},
     "output_type": "execute_result"
    }
   ],
   "source": [
    "dict.fromkeys('hello', 2)    # Same as {'h':2, 'e':2, 'l':2, 'o':2}\n",
    "dict.fromkeys([1, 2, 3], ...)     # Same as {1:None, 2:None, 3:None}"
   ]
  },
  {
   "cell_type": "code",
   "execution_count": 41,
   "id": "8e0eec3a",
   "metadata": {},
   "outputs": [
    {
     "data": {
      "text/plain": [
       "{'A': 0, 'B': 0, None: 0, Ellipsis: 0}"
      ]
     },
     "execution_count": 41,
     "metadata": {},
     "output_type": "execute_result"
    }
   ],
   "source": [
    "tally = dict.fromkeys(['A', 'B', None, ...], 0) # Ellipsis es una alternativa a None cuando no se permite esete ultimo valor  \n",
    "tally"
   ]
  },
  {
   "cell_type": "code",
   "execution_count": 42,
   "id": "cdad3d8f",
   "metadata": {},
   "outputs": [],
   "source": [
    "mylist = ['alpha', 'Beta', 'GAMMA']\n",
    "mylist.sort()                  # ['Beta', 'GAMMA', 'alpha']\n",
    "mylist.sort(key=str.lower)     # ['alpha', 'Beta', 'GAMMA']"
   ]
  },
  {
   "cell_type": "code",
   "execution_count": 43,
   "id": "c11c9b4f",
   "metadata": {},
   "outputs": [],
   "source": [
    "x = [1, 2, 3, 4, 5]\n",
    "del x[1]                 # x is now [1, 3, 4, 5]\n",
    "del x[::2]               # x is now [3, 5]"
   ]
  },
  {
   "cell_type": "code",
   "execution_count": 46,
   "id": "24e44661",
   "metadata": {},
   "outputs": [
    {
     "name": "stdout",
     "output_type": "stream",
     "text": [
      "El dato es 10\n"
     ]
    }
   ],
   "source": [
    "# match Statement == switch\n",
    "data = 10\n",
    "match data:\n",
    "    case 10:\n",
    "        print(\"El dato es 10\")\n",
    "    case \"10\":\n",
    "        print(\"El dato es un string\")\n",
    "    case [10,12]:\n",
    "        print(\"El valor es una lista\")\n",
    "    case _:\n",
    "        print(\"No coincide con nada\")"
   ]
  },
  {
   "cell_type": "code",
   "execution_count": 47,
   "id": "be459f96",
   "metadata": {},
   "outputs": [
    {
     "name": "stdout",
     "output_type": "stream",
     "text": [
      "0 is even\n",
      "2 is even\n",
      "4 is even\n"
     ]
    }
   ],
   "source": [
    "for subject in range(5):\n",
    "    match subject:\n",
    "        case int(i) if i % 2 == 0: print(i, \"is even\")\n"
   ]
  },
  {
   "cell_type": "code",
   "execution_count": 48,
   "id": "9b83ea7b",
   "metadata": {},
   "outputs": [],
   "source": [
    "# Capture pattern\n",
    "for subject in 42, 'string', ('tu', 'ple'), ['list'], object:\n",
    "    match subject:\n",
    "        case x: assert x == subject"
   ]
  },
  {
   "cell_type": "code",
   "execution_count": 51,
   "id": "129f5e77",
   "metadata": {},
   "outputs": [
    {
     "name": "stdout",
     "output_type": "stream",
     "text": [
      "c\n",
      "i\n",
      "a\n",
      "o\n"
     ]
    }
   ],
   "source": [
    "for i in 'ciao':\n",
    "    print(i)"
   ]
  },
  {
   "cell_type": "code",
   "execution_count": 57,
   "id": "0594bd99",
   "metadata": {},
   "outputs": [],
   "source": [
    "# List comprehensions\n",
    "# [expression for target in iterable lc-clauses]\n",
    "# Tambien puede hacerse con funciones -> [fn(x) for x in seq]\n",
    "\n",
    "sequence = [i for i in range(100)]\n",
    "odd_numbers = [x+1 for x in sequence if x % 2 == 0]\n",
    "\n",
    "listoflists = [[1, 2, 3], [4, 5, 6], [7, 8, 9]]\n",
    "result = [x for sublist in listoflists for x in sublist]"
   ]
  },
  {
   "cell_type": "code",
   "execution_count": 58,
   "id": "c91ffa37",
   "metadata": {},
   "outputs": [
    {
     "name": "stdout",
     "output_type": "stream",
     "text": [
      "[0, 1, 2, 3, 4]\n"
     ]
    }
   ],
   "source": [
    "# Set comprehensions\n",
    "# Lo mismo en sintaxis y sematnica a list comprehension pero remplazamos el [] por el {}\n",
    "s = {n//2 for n in range(10)}\n",
    "print(sorted(s))"
   ]
  },
  {
   "cell_type": "code",
   "execution_count": 59,
   "id": "6536b19c",
   "metadata": {},
   "outputs": [
    {
     "name": "stdout",
     "output_type": "stream",
     "text": [
      "{'zero': 0, 'one': 1, 'two': 2}\n"
     ]
    }
   ],
   "source": [
    "# Dictionary comprehensions\n",
    "# Lo mismo que los otros, a excepcion que en lugar de una sola expresion antes de la clausula for se usan dos expresiones con \":\" (key:value)   \n",
    "d = {s: i for (i, s) in enumerate(['zero', 'one', 'two'])}\n",
    "print(d)"
   ]
  },
  {
   "cell_type": "code",
   "execution_count": 63,
   "id": "247a80fb",
   "metadata": {},
   "outputs": [
    {
     "name": "stdout",
     "output_type": "stream",
     "text": [
      "Iteración 1 procesada\n",
      "Iteración 2 procesada\n",
      "Iteración 3 omitida\n",
      "Iteración 4 procesada\n",
      "Iteración 5 procesada\n"
     ]
    }
   ],
   "source": [
    "# continue\n",
    "# la sentencia continue en Python se utiliza dentro de un bucle para omitir el resto del código dentro del bucle para la iteración actual y pasar a la siguiente iteración. Aquí tienes un ejemplo simple:\n",
    "for i in range(1, 6):\n",
    "    if i == 3:\n",
    "        print(\"Iteración\", i, \"omitida\")\n",
    "        continue\n",
    "    print(\"Iteración\", i, \"procesada\")"
   ]
  },
  {
   "cell_type": "code",
   "execution_count": 70,
   "id": "9617c2d4",
   "metadata": {},
   "outputs": [
    {
     "name": "stdout",
     "output_type": "stream",
     "text": [
      "El nombre Carlos se encuentra en la lista\n",
      "None\n",
      "El nombre Carlos se encuentra en la lista\n",
      "None\n"
     ]
    }
   ],
   "source": [
    "# Se puede usar else en los bucles, se ejecuta cuando termina naturalmente\n",
    "lista_nombres = [\"Carlos\", \"Simon\", \"Fin\", \"Jacke\"]\n",
    "\n",
    "def search_name(name):\n",
    "    for name in lista_nombres:\n",
    "        if name == name:\n",
    "            print(f'El nombre {name} se encuentra en la lista')\n",
    "            break\n",
    "    else:\n",
    "        print(f'No se encontro el nombre {name} en la lista')\n",
    "        \n",
    "print(search_name(\"Fiona\"))\n",
    "print(search_name(\"Carlos\"))"
   ]
  },
  {
   "cell_type": "code",
   "execution_count": 77,
   "id": "e0b824e2",
   "metadata": {},
   "outputs": [
    {
     "name": "stdout",
     "output_type": "stream",
     "text": [
      "{'one': 4, 'two': 2, 'new': 42}\n"
     ]
    }
   ],
   "source": [
    "def suma_numeros(*numeros):\n",
    "    return sum(numeros)\n",
    "resultado_1 = suma_numeros(1, 2)\n",
    "resultado_2 = suma_numeros(1, 2, 3, 4, 5)\n",
    "\n",
    "def inc_dict(d, **values):\n",
    "    for key, value in values.items():\n",
    "        if key in d:\n",
    "            d[key] += value\n",
    "        else:\n",
    "            d[key] = value\n",
    "\n",
    "my_dict = {'one': 1, 'two': 2}\n",
    "\n",
    "inc_dict(my_dict, one=3, new=42)\n",
    "\n",
    "print(my_dict)"
   ]
  },
  {
   "cell_type": "code",
   "execution_count": 78,
   "id": "a17b9a0b",
   "metadata": {},
   "outputs": [],
   "source": [
    "def suma(a: int, b: int) -> int:\n",
    "    \"\"\"\n",
    "    Esta función toma dos enteros y devuelve su suma.\n",
    "    \"\"\"\n",
    "    return a + b"
   ]
  },
  {
   "cell_type": "code",
   "execution_count": 83,
   "id": "651457d1",
   "metadata": {},
   "outputs": [
    {
     "name": "stdout",
     "output_type": "stream",
     "text": [
      "Percentages are:  25.0 60.0 15.0\n"
     ]
    }
   ],
   "source": [
    "def percent1(a,b,c):\n",
    "    def pc(x, total = a+b+c):\n",
    "        return (x*100) / total\n",
    "    print(\"Percentages are: \", pc(a), pc(b), pc(c))\n",
    "\n",
    "percent1(25, 60, 15)"
   ]
  },
  {
   "cell_type": "code",
   "execution_count": 84,
   "id": "fd101ab1",
   "metadata": {},
   "outputs": [
    {
     "name": "stdout",
     "output_type": "stream",
     "text": [
      "105\n",
      "109\n"
     ]
    }
   ],
   "source": [
    "def make_adder(augend):\n",
    "    def add(addend):\n",
    "        return addend+augend\n",
    "    return add\n",
    "add5 = make_adder(5)\n",
    "add9 = make_adder(9)\n",
    "\n",
    "print(add5(100))   # prints: 105\n",
    "print(add9(100))   # prints: 109"
   ]
  },
  {
   "cell_type": "code",
   "execution_count": 86,
   "id": "3bb7cd93",
   "metadata": {},
   "outputs": [
    {
     "data": {
      "text/plain": [
       "[0, -1, 1, -2, 2, -3, 3]"
      ]
     },
     "execution_count": 86,
     "metadata": {},
     "output_type": "execute_result"
    }
   ],
   "source": [
    "# Si tu funcion es un sol return, deberias reemplazarla por una lambda.\n",
    "# lambda parameters : expression\n",
    "\n",
    "a_list = [-3, -2, -1, 0, 1, 2, 3]\n",
    "sorted(a_list, key = lambda x: x * x)"
   ]
  },
  {
   "cell_type": "code",
   "execution_count": 89,
   "id": "9e33a08a",
   "metadata": {},
   "outputs": [
    {
     "name": "stdout",
     "output_type": "stream",
     "text": [
      "1\n",
      "2\n",
      "3\n",
      "4\n",
      "5\n",
      "4\n",
      "3\n",
      "2\n",
      "1\n"
     ]
    }
   ],
   "source": [
    "# La palabra clave yield en Python se utiliza en funciones para crear generadores. Los generadores son una forma especial de iterable que permite la generación perezosa de valores, es decir, los valores se generan uno a la vez y no se almacenan todos en memoria de una vez. Cuando se encuentra la palabra clave yield en una función, la función se convierte en un generador.   \n",
    "# Un generador se utiliza en combinación con un bucle for para producir una secuencia de valores a medida que se solicitan, en lugar de calcular y almacenar todos los valores de antemano. \n",
    "# En resumen, se puede usar para retornar multiples valores, es decir, return pero continuando con la logica de la funcion \n",
    "def updown(N):\n",
    "    for x in range(1, N):\n",
    "        yield x\n",
    "    for x in range(N, 0, -1):\n",
    "        yield x\n",
    "    \n",
    "for i in updown(5):\n",
    "    print(i) # prints 1 2 3 4 5 4 3 2 1 "
   ]
  },
  {
   "cell_type": "code",
   "execution_count": 90,
   "id": "7384a117",
   "metadata": {},
   "outputs": [
    {
     "name": "stdout",
     "output_type": "stream",
     "text": [
      "1\n",
      "2\n",
      "3\n",
      "4\n",
      "5\n",
      "4\n",
      "3\n",
      "2\n",
      "1\n"
     ]
    }
   ],
   "source": [
    "# yield from -> Se utiliza para simplificar y mejorar la legibilidad de las funciones generadoras que delegan parte o la totalidad de su trabajo a otra función generadora  \n",
    "def updown_from(N):\n",
    "    yield from range(1, N)\n",
    "    yield from range(N, 0, -1)\n",
    "for i in updown_from(5):\n",
    "    print(i)"
   ]
  },
  {
   "cell_type": "code",
   "execution_count": 91,
   "id": "235bda23",
   "metadata": {},
   "outputs": [],
   "source": [
    "# Tambien es muy bueno para recursion.\n",
    "def rec(t):\n",
    "    yield t[0]\n",
    "    for i in (1, 2):\n",
    "        if t[i] is not None:\n",
    "            yield from rec(t[i])"
   ]
  },
  {
   "cell_type": "code",
   "execution_count": null,
   "id": "886974f6",
   "metadata": {},
   "outputs": [],
   "source": []
  }
 ],
 "metadata": {
  "kernelspec": {
   "display_name": "Python 3 (ipykernel)",
   "language": "python",
   "name": "python3"
  },
  "language_info": {
   "codemirror_mode": {
    "name": "ipython",
    "version": 3
   },
   "file_extension": ".py",
   "mimetype": "text/x-python",
   "name": "python",
   "nbconvert_exporter": "python",
   "pygments_lexer": "ipython3",
   "version": "3.11.2"
  }
 },
 "nbformat": 4,
 "nbformat_minor": 5
}
