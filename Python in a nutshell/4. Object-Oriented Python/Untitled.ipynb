{
 "cells": [
  {
   "cell_type": "code",
   "execution_count": 6,
   "id": "45df624d",
   "metadata": {},
   "outputs": [
    {
     "name": "stdout",
     "output_type": "stream",
     "text": [
      "23\n",
      "23\n",
      "23\n"
     ]
    }
   ],
   "source": [
    "class C1:\n",
    "    x = 23\n",
    "c = C1()\n",
    "print(c.__class__.x) ## accede al valor desde la clase\n",
    "print(c.x)\n",
    "print(C1.x)"
   ]
  },
  {
   "cell_type": "code",
   "execution_count": 11,
   "id": "cc3857ff",
   "metadata": {},
   "outputs": [
    {
     "name": "stdout",
     "output_type": "stream",
     "text": [
      "moto: 2\n",
      "valor de ruedas accedido desde \"__class__\" -> 4\n"
     ]
    }
   ],
   "source": [
    "class Vehiculo:\n",
    "    cant_ruedas = 4\n",
    "    \n",
    "    def __init__(self, ruedas):\n",
    "        self.ruedas = ruedas\n",
    "\n",
    "auto = Vehiculo(4)\n",
    "moto = Vehiculo(2)\n",
    "print(f'moto: {moto.ruedas}')\n",
    "print(f'valor de ruedas accedido desde \"__class__\" -> {moto.__class__.cant_ruedas}')"
   ]
  },
  {
   "cell_type": "code",
   "execution_count": 13,
   "id": "eb6fa03f",
   "metadata": {},
   "outputs": [
    {
     "name": "stdout",
     "output_type": "stream",
     "text": [
      "Rapido\n"
     ]
    }
   ],
   "source": [
    "# Tambien se le pueden agregar atributos extras a clases\n",
    "moto.arranque = \"Rapido\"\n",
    "print(moto.arranque)"
   ]
  },
  {
   "cell_type": "code",
   "execution_count": 17,
   "id": "de5bd78b",
   "metadata": {},
   "outputs": [
    {
     "name": "stdout",
     "output_type": "stream",
     "text": [
      "Vehiculo (<class 'object'>,)\n"
     ]
    }
   ],
   "source": [
    "print(Vehiculo.__name__, Vehiculo.__bases__) # Nombre de la clase y la tupla de clases base dado la clase dada, es muy util cuando se desea saber de donde hereda X clase"
   ]
  },
  {
   "cell_type": "code",
   "execution_count": 24,
   "id": "a207ed39",
   "metadata": {},
   "outputs": [
    {
     "name": "stdout",
     "output_type": "stream",
     "text": [
      "{'__module__': '__main__', 'cant_ruedas': 4, '__init__': <function Vehiculo.__init__ at 0x000002702FDAB9C0>, '__dict__': <attribute '__dict__' of 'Vehiculo' objects>, '__weakref__': <attribute '__weakref__' of 'Vehiculo' objects>, '__doc__': None}\n",
      "{'nombre': 'Alice', 'edad': 30}\n",
      "{'nombre': 'Bob', 'edad': 25, 'ciudad': 'New York'}\n"
     ]
    }
   ],
   "source": [
    "print(Vehiculo.__dict__)\n",
    "\"\"\"\n",
    "\n",
    "__dict__ es un diccionario incorporado en cada instancia de una clase en Python, y contiene\n",
    "los atributos y métodos de la instancia. Permite acceder y manipular dinámicamente los \n",
    "atributos de un objeto.\n",
    "\n",
    "\"\"\"\n",
    "\n",
    "class Persona:\n",
    "    def __init__(self, nombre, edad):\n",
    "        self.nombre = nombre\n",
    "        self.edad = edad\n",
    "\n",
    "p = Persona(\"Alice\", 30)\n",
    "print(p.__dict__)\n",
    "\n",
    "p = Persona(\"Bob\", 25)\n",
    "p.__dict__[\"ciudad\"] = \"New York\"\n",
    "print(p.__dict__)\n",
    "# Salida: {'nombre': 'Bob', 'edad': 25, 'ciudad': 'New York'}"
   ]
  },
  {
   "cell_type": "code",
   "execution_count": 21,
   "id": "a2e6c933",
   "metadata": {},
   "outputs": [],
   "source": [
    "class C4:\n",
    "    x = 23\n",
    "    _variable_privada = True\n",
    "    def amethod(self):\n",
    "        print(C4.x)              # must use C4.x or self.x, not just x!\n",
    "        \n",
    "class C3:\n",
    "    x = 23\n",
    "    y = x + 22                   # must use just x, not C3.x\n",
    "\n",
    "# Dentro de un metodo -> clase.atributo\n",
    "# Fuera de un metodo -> Atributo2 = Atributo1 + 2"
   ]
  },
  {
   "cell_type": "code",
   "execution_count": 22,
   "id": "a8d14ac4",
   "metadata": {},
   "outputs": [
    {
     "name": "stdout",
     "output_type": "stream",
     "text": [
      "Hola esta es la documentacion de la clase\n"
     ]
    }
   ],
   "source": [
    "class DocumentedClass:\n",
    "    \"\"\"Hola esta es la documentacion de la clase\"\"\"\n",
    "    pass\n",
    "print(DocumentedClass.__doc__)"
   ]
  },
  {
   "cell_type": "code",
   "execution_count": 28,
   "id": "ad751f1a",
   "metadata": {},
   "outputs": [
    {
     "name": "stdout",
     "output_type": "stream",
     "text": [
      "Error: _edad debe ser de tipo <class 'int'>\n",
      "23\n"
     ]
    }
   ],
   "source": [
    "# Descriptors -> Un objeto cuya clase proporciona uno o mas metodos especiales __delete__, __get__, etc\n",
    "# Sirven para controlar la semantica de acceder y establecer atributos en las instancias de una clase \n",
    "\n",
    "# No es necesario que sean clases padres, pero por lo general se usa asi debido a reutilizar su logica\n",
    "\n",
    "class ValidadorDeAtributo:\n",
    "    def __init__(self, nombre_atributo, tipo_dato):\n",
    "        self.nombre_atributo = nombre_atributo\n",
    "        self.tipo_dato = tipo_dato\n",
    "        \n",
    "    def __get__(self, instance, owner):\n",
    "        return instance.__dict__[self.nombre_atributo]\n",
    "    \n",
    "    def __set__(self, instance, value):\n",
    "        if not isinstance(value, self.tipo_dato):\n",
    "            raise ValueError(f'{self.nombre_atributo} debe ser de tipo {self.tipo_dato}')\n",
    "        instance.__dict__[self.nombre_atributo] = value\n",
    "    \n",
    "class Persona:\n",
    "    def __init__(self, nombre, edad, correo):\n",
    "        self.nombre = nombre\n",
    "        self.edad = edad\n",
    "        self.correo = correo\n",
    "    \n",
    "    nombre = ValidadorDeAtributo(\"_nombre\", str)\n",
    "    edad = ValidadorDeAtributo(\"_edad\", int)\n",
    "    correo = ValidadorDeAtributo(\"_correo\", str)\n",
    "\n",
    "persona = Persona(nombre=\"Carlos\", edad=25, correo=\"guapoesgay@gmail.com\")\n",
    "\n",
    "try:\n",
    "    persona.edad = \"23\"\n",
    "except ValueError as e:\n",
    "    print(f'Error: {e}')\n",
    "\n",
    "persona.edad = 23\n",
    "print(persona.edad)"
   ]
  },
  {
   "cell_type": "code",
   "execution_count": null,
   "id": "50faf2e6",
   "metadata": {},
   "outputs": [],
   "source": []
  },
  {
   "cell_type": "code",
   "execution_count": null,
   "id": "675a2732",
   "metadata": {},
   "outputs": [],
   "source": []
  },
  {
   "cell_type": "code",
   "execution_count": null,
   "id": "6b6de81c",
   "metadata": {},
   "outputs": [],
   "source": []
  },
  {
   "cell_type": "code",
   "execution_count": null,
   "id": "681d7728",
   "metadata": {},
   "outputs": [],
   "source": []
  }
 ],
 "metadata": {
  "kernelspec": {
   "display_name": "Python 3 (ipykernel)",
   "language": "python",
   "name": "python3"
  },
  "language_info": {
   "codemirror_mode": {
    "name": "ipython",
    "version": 3
   },
   "file_extension": ".py",
   "mimetype": "text/x-python",
   "name": "python",
   "nbconvert_exporter": "python",
   "pygments_lexer": "ipython3",
   "version": "3.11.2"
  }
 },
 "nbformat": 4,
 "nbformat_minor": 5
}
